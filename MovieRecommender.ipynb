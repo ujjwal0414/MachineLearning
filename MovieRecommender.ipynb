{
 "cells": [
  {
   "cell_type": "markdown",
   "id": "976fe368-37c4-4860-833a-083af1f9ca6e",
   "metadata": {},
   "source": [
    "## Notebook for CodeSpace"
   ]
  },
  {
   "cell_type": "markdown",
   "id": "315fb1a9-8005-41f5-b586-b0ee0dc525d0",
   "metadata": {},
   "source": [
    "#### Init Git"
   ]
  },
  {
   "cell_type": "code",
   "execution_count": null,
   "id": "75ed012f-c0a0-46fe-9efe-d4cf4b5eb3c0",
   "metadata": {},
   "outputs": [],
   "source": [
    "## Basic import of modules\n",
    "import numpy as np \n",
    "import pandas as pd\n",
    "import matplotlib.pyplot as plt\n",
    "import seaborn as sns"
   ]
  },
  {
   "cell_type": "code",
   "execution_count": null,
   "id": "5b050634-8e7f-4212-8fb5-75b33bc42b5e",
   "metadata": {},
   "outputs": [],
   "source": [
    "## data acquisition\n",
    "## using kaggle dataset\n",
    "movies_df=pd.read_csv('movies_df.csv')"
   ]
  },
  {
   "cell_type": "markdown",
   "id": "332332f8-d22a-4609-9988-0d3cf8e528f2",
   "metadata": {},
   "source": [
    "### Columns to be dropped\n",
    "* Budget\n",
    "* Homepage\n",
    "* Original_language\n",
    "* Original_title\n",
    "* Popularity\n",
    "* Production_companies\n",
    "* Production_countries\n",
    "* Release_date (Good if you want to make it in time period)\n",
    "* Revenue\n",
    "* Runtime\n",
    "* Spoken_Language\n",
    "* Released ??\n",
    "* Tagline\n",
    "* Vote_avg\n",
    "* movie_id"
   ]
  },
  {
   "cell_type": "code",
   "execution_count": null,
   "id": "e608cabc-0410-4262-8bb6-2ef249215572",
   "metadata": {},
   "outputs": [],
   "source": [
    "movies_df.info()"
   ]
  },
  {
   "cell_type": "code",
   "execution_count": null,
   "id": "a306201b-ce0d-45cf-9aeb-8bc6766d1560",
   "metadata": {},
   "outputs": [],
   "source": [
    "credit_df=pd.read_csv('tmdb_5000_credits.csv')"
   ]
  },
  {
   "cell_type": "markdown",
   "id": "28afb2b5-e5cb-43df-b218-23e0a54e97c0",
   "metadata": {},
   "source": [
    "## Merge two dataframes"
   ]
  },
  {
   "cell_type": "code",
   "execution_count": null,
   "id": "9e25a448-cced-4b30-9ce2-dcaef452c268",
   "metadata": {},
   "outputs": [],
   "source": [
    "movies_df=movies_df.merge(credit_df,on='title')"
   ]
  },
  {
   "cell_type": "code",
   "execution_count": null,
   "id": "aaf401f1-8503-4774-8d40-52c1405f6464",
   "metadata": {},
   "outputs": [],
   "source": [
    "# Extracting useful columns\n",
    "movies_df=movies_df[['id','title','genres','overview','keywords','cast','crew']]"
   ]
  },
  {
   "cell_type": "code",
   "execution_count": null,
   "id": "06446cb7-3183-4057-802f-6b94f2571cce",
   "metadata": {},
   "outputs": [],
   "source": [
    "# Check for duplicates and drop empty cols\n",
    "movies_df.isna().sum()\n",
    "movies_df.duplicated().sum()"
   ]
  },
  {
   "cell_type": "markdown",
   "id": "0b8d54e6-9acb-499f-9d86-c31363c3e660",
   "metadata": {},
   "source": [
    "### The genre keywords are not in specific format we need to make it a proper data structure"
   ]
  },
  {
   "cell_type": "code",
   "execution_count": null,
   "id": "aa3638c2-58f1-4ada-b733-a009c78ab48c",
   "metadata": {},
   "outputs": [],
   "source": [
    "# sample code\n",
    "import ast\n",
    "ast.literal_eval('[{\"id\": 28, \"name\": \"Action\"}, {\"id\": 12, \"name\": \"Adventure\"}, {\"id\": 14, \"name\": \"Fantasy\"}, {\"id\": 878, \"name\": \"Science Fiction\"}]')"
   ]
  },
  {
   "cell_type": "code",
   "execution_count": null,
   "id": "1b7dca5f-d53f-4722-983f-bcf508a5a371",
   "metadata": {},
   "outputs": [],
   "source": [
    "# Function that helps to extract the keys of the genre col like ['action','thriller',...] and same for keywords col\n",
    "def genre_converter(str_list):\n",
    "    gnr_list=[]\n",
    "    li=ast.literal_eval(str_list)\n",
    "    for i in li:\n",
    "        gnr_list.append(i['name'])\n",
    "    return gnr_list "
   ]
  },
  {
   "cell_type": "code",
   "execution_count": null,
   "id": "4e050cc6-a250-40f3-9f72-c0a15ac40491",
   "metadata": {},
   "outputs": [],
   "source": [
    "movies_df['genres']=movies_df['genres'].apply(genre_converter)\n",
    "movies_df['keywords']=movies_df['keywords'].apply(genre_converter)"
   ]
  },
  {
   "cell_type": "code",
   "execution_count": null,
   "id": "f574c72d-b554-4b09-be70-6cdb5a3b9f47",
   "metadata": {},
   "outputs": [],
   "source": [
    "# Selecting the top 3 actors of the movie\n",
    "def cast_selection(cast_list):\n",
    "    gnr_list=[]\n",
    "    li=ast.literal_eval(cast_list)\n",
    "    if (len(li)>=3):\n",
    "        for i in range(3):\n",
    "            gnr_list.append(li[i]['name'])\n",
    "    else:\n",
    "        if(len(li)>0 and len(li)<3):\n",
    "            for i in range(len(li)):\n",
    "                gnr_list.append(li[i]['name'])\n",
    "    return gnr_list"
   ]
  },
  {
   "cell_type": "code",
   "execution_count": null,
   "id": "9dabcf21-ad4d-4535-b733-6360d7a0877d",
   "metadata": {},
   "outputs": [],
   "source": [
    "movies_df['cast']=movies_df['cast'].apply(cast_selection)"
   ]
  },
  {
   "cell_type": "code",
   "execution_count": null,
   "id": "e9ae6d17-149d-48ff-8360-d36344e1f640",
   "metadata": {},
   "outputs": [],
   "source": [
    "# Extracting the director name\n",
    "def director_exct(crew_list):\n",
    "    li=ast.literal_eval(crew_list)\n",
    "    di=[]\n",
    "    for i in li:\n",
    "        if(i['job']=='Director'):\n",
    "            di.append(i['name'])\n",
    "           \n",
    "       # print('Job : ',i['job'])\n",
    "    return di"
   ]
  },
  {
   "cell_type": "code",
   "execution_count": null,
   "id": "85cd8bb1-ef4d-4ebb-82dc-fa0d8ea50f2b",
   "metadata": {},
   "outputs": [],
   "source": [
    "movies_df['crew']=movies_df['crew'].apply(director_exct)"
   ]
  },
  {
   "cell_type": "code",
   "execution_count": null,
   "id": "cf24eef5-177b-412e-a498-ff44424726dd",
   "metadata": {},
   "outputs": [],
   "source": [
    "# Now tokenize the overview column\n",
    "from nltk.tokenize import word_tokenize"
   ]
  },
  {
   "cell_type": "code",
   "execution_count": null,
   "id": "72da48df-57cf-46e7-a10e-fbc00b4133e1",
   "metadata": {},
   "outputs": [],
   "source": [
    "movies_df.overview=movies_df.overview.apply(lambda x:x .split())"
   ]
  },
  {
   "cell_type": "markdown",
   "id": "eb16068b-054e-4e4e-99a1-61882cbe1d5a",
   "metadata": {},
   "source": [
    "# Now we need to do imp part\n",
    "### In every element of list two words separated by a space need to be joined so that it is treated as a same word"
   ]
  },
  {
   "cell_type": "code",
   "execution_count": null,
   "id": "a993559f-95e9-4f19-b0fc-5625afd577bd",
   "metadata": {},
   "outputs": [],
   "source": [
    "movies_df.crew=movies_df.crew.apply(lambda x :[i.replace(\" \",'') for i in x])\n",
    "movies_df.genres=movies_df.genres.apply(lambda x :[i.replace(\" \",'') for i in x])\n",
    "movies_df.cast=movies_df.cast.apply(lambda x :[i.replace(\" \",'') for i in x])\n",
    "movies_df.keywords=movies_df.keywords.apply(lambda x :[i.replace(\" \",'') for i in x])"
   ]
  },
  {
   "cell_type": "markdown",
   "id": "dd26b742-bbf0-4b61-8ecd-0bdac43b6cde",
   "metadata": {},
   "source": [
    "## Add the imp columns into single df"
   ]
  },
  {
   "cell_type": "code",
   "execution_count": null,
   "id": "b0c742fd-5df4-42ef-92b7-38cdf28194bb",
   "metadata": {},
   "outputs": [],
   "source": [
    "movies_df['tags']=movies_df['overview']+movies_df['genres']+movies_df['keywords']+movies_df['cast']+movies_df['crew']"
   ]
  },
  {
   "cell_type": "markdown",
   "id": "9f21015f-3af6-4c48-93c1-a2ad70ad59e5",
   "metadata": {},
   "source": [
    "## tags col modification"
   ]
  },
  {
   "cell_type": "code",
   "execution_count": null,
   "id": "5362daf1-d534-464a-a0dd-cc879c20eaa2",
   "metadata": {},
   "outputs": [],
   "source": [
    "movies_df.drop(columns=['genres','overview','keywords','cast','crew'],inplace=True)\n",
    "movies_df['tags']=movies_df['tags'].apply(lambda x : \" \".join(x))\n",
    "movies_df['tags']=movies_df['tags'].apply(lambda x : x.lower())"
   ]
  },
  {
   "cell_type": "markdown",
   "id": "00c47e00-94d8-47cd-8ae2-43aa0f9aa499",
   "metadata": {},
   "source": [
    "## Creating model for Bag of words technique for vectorization"
   ]
  },
  {
   "cell_type": "code",
   "execution_count": null,
   "id": "52e85412-d45b-4a4b-84eb-38048a1081e2",
   "metadata": {},
   "outputs": [],
   "source": [
    "from sklearn.feature_extraction.text import CountVectorizer\n",
    "cv=CountVectorizer(stop_words='english',max_features=5000)"
   ]
  },
  {
   "cell_type": "code",
   "execution_count": null,
   "id": "d1d23852-30f7-4e55-9927-7f58e237410c",
   "metadata": {},
   "outputs": [],
   "source": [
    "vectors=cv.fit_transform(movies_df.tags).toarray()\n",
    "vectors.shape"
   ]
  },
  {
   "cell_type": "code",
   "execution_count": null,
   "id": "3368ba7d-2614-4d69-a928-392cefe848c1",
   "metadata": {},
   "outputs": [],
   "source": [
    "from nltk.stem.porter import PorterStemmer\n",
    "ps=PorterStemmer()"
   ]
  },
  {
   "cell_type": "code",
   "execution_count": null,
   "id": "a970bcdc-f480-419e-8dbc-8084d72d6cd3",
   "metadata": {},
   "outputs": [],
   "source": [
    "def stemmer_(text):\n",
    "    txt=[]\n",
    "    for i in text.split():\n",
    "        txt.append(ps.stem(i))\n",
    "    return \" \".join(txt)  "
   ]
  },
  {
   "cell_type": "code",
   "execution_count": null,
   "id": "50bc7913-66f3-4a8d-81ae-7d2eb538f7d0",
   "metadata": {},
   "outputs": [],
   "source": [
    "movies_df['tags']=movies_df['tags'].apply(stemmer_)"
   ]
  },
  {
   "cell_type": "code",
   "execution_count": null,
   "id": "cb1119eb-8681-4262-9aeb-c7172372f987",
   "metadata": {},
   "outputs": [],
   "source": [
    "cv.get_feature_names_out()"
   ]
  },
  {
   "cell_type": "markdown",
   "id": "94e938fd-c343-4386-aea1-bb73682937c4",
   "metadata": {},
   "source": [
    "## To know that wether a given vector is how much similar to a given array and how closely related \n",
    "### we will be using sklearn's cosine similarity "
   ]
  },
  {
   "cell_type": "code",
   "execution_count": null,
   "id": "fa9c51e7-903b-40da-8af2-c69287f444fe",
   "metadata": {},
   "outputs": [],
   "source": [
    "from sklearn.metrics.pairwise import cosine_similarity\n",
    "similarity=cosine_similarity(vectors)\n",
    "similarity.shape"
   ]
  },
  {
   "cell_type": "code",
   "execution_count": null,
   "id": "5fa9e49f-37c1-4db7-9567-16f540752f3e",
   "metadata": {},
   "outputs": [],
   "source": [
    "def find_best_movie(movie):\n",
    "    index_len=len(movies_df[movies_df['title']==movie])\n",
    "    if(index_len!=0):\n",
    "        index_pos=movies_df[movies_df['title']==movie].index[0]\n",
    "        # the similarity[] is an 2d array for finding similarity\n",
    "        best_set=sorted(enumerate(similarity[index_pos]),reverse=True,key=lambda x:x[1])[1:6]\n",
    "        for i in best_set:\n",
    "            print(movies_df.iloc[i[0]]['title'])\n",
    "    else:\n",
    "        print(['No movies found'])\n",
    "    #print(best_set)"
   ]
  },
  {
   "cell_type": "code",
   "execution_count": null,
   "id": "bb7a7475-f1f7-4fec-9dca-4522ea10d6c0",
   "metadata": {},
   "outputs": [],
   "source": []
  }
 ],
 "metadata": {
  "kernelspec": {
   "display_name": "Python 3 (ipykernel)",
   "language": "python",
   "name": "python3"
  },
  "language_info": {
   "codemirror_mode": {
    "name": "ipython",
    "version": 3
   },
   "file_extension": ".py",
   "mimetype": "text/x-python",
   "name": "python",
   "nbconvert_exporter": "python",
   "pygments_lexer": "ipython3",
   "version": "3.11.4"
  }
 },
 "nbformat": 4,
 "nbformat_minor": 5
}
