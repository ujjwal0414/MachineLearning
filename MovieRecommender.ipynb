{
 "cells": [
  {
   "cell_type": "markdown",
   "id": "976fe368-37c4-4860-833a-083af1f9ca6e",
   "metadata": {},
   "source": [
    "## Notebook for CodeSpace"
   ]
  },
  {
   "cell_type": "markdown",
   "id": "315fb1a9-8005-41f5-b586-b0ee0dc525d0",
   "metadata": {},
   "source": [
    "#### Init Git"
   ]
  },
  {
   "cell_type": "code",
   "execution_count": null,
   "id": "75ed012f-c0a0-46fe-9efe-d4cf4b5eb3c0",
   "metadata": {},
   "outputs": [],
   "source": [
    "## Basic import of modules\n",
    "import numpy as np \n",
    "import pandas as pd\n",
    "import matplotlib.pyplot as plt\n",
    "import seaborn as sns"
   ]
  },
  {
   "cell_type": "code",
   "execution_count": null,
   "id": "5b050634-8e7f-4212-8fb5-75b33bc42b5e",
   "metadata": {},
   "outputs": [],
   "source": [
    "## data acquisition\n",
    "## using kaggle dataset\n",
    "movies_df=pd.read_csv('movies_df.csv')"
   ]
  },
  {
   "cell_type": "markdown",
   "id": "332332f8-d22a-4609-9988-0d3cf8e528f2",
   "metadata": {},
   "source": [
    "### Columns to be dropped\n",
    "* Budget\n",
    "* Homepage\n",
    "* Original_language\n",
    "* Original_title\n",
    "* Popularity\n",
    "* Production_companies\n",
    "* Production_countries\n",
    "* Release_date (Good if you want to make it in time period)\n",
    "* Revenue\n",
    "* Runtime\n",
    "* Spoken_Language\n",
    "* Released ??\n",
    "* Tagline\n",
    "* Vote_avg\n",
    "* movie_id\n",
    "* "
   ]
  },
  {
   "cell_type": "code",
   "execution_count": null,
   "id": "e608cabc-0410-4262-8bb6-2ef249215572",
   "metadata": {},
   "outputs": [],
   "source": []
  }
 ],
 "metadata": {
  "kernelspec": {
   "display_name": "Python 3 (ipykernel)",
   "language": "python",
   "name": "python3"
  },
  "language_info": {
   "codemirror_mode": {
    "name": "ipython",
    "version": 3
   },
   "file_extension": ".py",
   "mimetype": "text/x-python",
   "name": "python",
   "nbconvert_exporter": "python",
   "pygments_lexer": "ipython3",
   "version": "3.11.4"
  }
 },
 "nbformat": 4,
 "nbformat_minor": 5
}
