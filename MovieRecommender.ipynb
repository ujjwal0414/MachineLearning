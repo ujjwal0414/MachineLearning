{
 "cells": [
  {
   "cell_type": "markdown",
   "id": "976fe368-37c4-4860-833a-083af1f9ca6e",
   "metadata": {},
   "source": [
    "## Notebook for CodeSpace"
   ]
  },
  {
   "cell_type": "markdown",
   "id": "315fb1a9-8005-41f5-b586-b0ee0dc525d0",
   "metadata": {},
   "source": [
    "#### Init Git"
   ]
  },
  {
   "cell_type": "code",
   "execution_count": null,
   "id": "75ed012f-c0a0-46fe-9efe-d4cf4b5eb3c0",
   "metadata": {},
   "outputs": [],
   "source": [
    "## Basic import of modules\n",
    "import numpy as np \n",
    "import pandas as pd\n",
    "import matplotlib.pyplot as plt\n",
    "import seaborn as sns"
   ]
  },
  {
   "cell_type": "code",
   "execution_count": null,
   "id": "5b050634-8e7f-4212-8fb5-75b33bc42b5e",
   "metadata": {},
   "outputs": [],
   "source": [
    "## data acquisition\n",
    "## using kaggle dataset\n",
    "movies_df=pd.read_csv('movies_df.csv')"
   ]
  },
  {
   "cell_type": "markdown",
   "id": "332332f8-d22a-4609-9988-0d3cf8e528f2",
   "metadata": {},
   "source": [
    "### Columns to be dropped\n",
    "* Budget\n",
    "* Homepage\n",
    "* Original_language\n",
    "* Original_title\n",
    "* Popularity\n",
    "* Production_companies\n",
    "* Production_countries\n",
    "* Release_date (Good if you want to make it in time period)\n",
    "* Revenue\n",
    "* Runtime\n",
    "* Spoken_Language\n",
    "* Released ??\n",
    "* Tagline\n",
    "* Vote_avg\n",
    "* movie_id"
   ]
  },
  {
   "cell_type": "code",
   "execution_count": null,
   "id": "e608cabc-0410-4262-8bb6-2ef249215572",
   "metadata": {},
   "outputs": [],
   "source": [
    "movies_df.info()"
   ]
  },
  {
   "cell_type": "code",
   "execution_count": null,
   "id": "a306201b-ce0d-45cf-9aeb-8bc6766d1560",
   "metadata": {},
   "outputs": [],
   "source": [
    "credit_df=pd.read_csv('tmdb_5000_credits.csv')"
   ]
  },
  {
   "cell_type": "markdown",
   "id": "28afb2b5-e5cb-43df-b218-23e0a54e97c0",
   "metadata": {},
   "source": [
    "## Merge two dataframes"
   ]
  },
  {
   "cell_type": "code",
   "execution_count": null,
   "id": "9e25a448-cced-4b30-9ce2-dcaef452c268",
   "metadata": {},
   "outputs": [],
   "source": [
    "movies_df=movies_df.merge(credit_df,on='title')"
   ]
  },
  {
   "cell_type": "code",
   "execution_count": null,
   "id": "aaf401f1-8503-4774-8d40-52c1405f6464",
   "metadata": {},
   "outputs": [],
   "source": []
  },
  {
   "cell_type": "code",
   "execution_count": null,
   "id": "06446cb7-3183-4057-802f-6b94f2571cce",
   "metadata": {},
   "outputs": [],
   "source": []
  },
  {
   "cell_type": "code",
   "execution_count": null,
   "id": "77b57090-ccc8-4c77-9370-4980c372bf66",
   "metadata": {},
   "outputs": [],
   "source": []
  },
  {
   "cell_type": "code",
   "execution_count": null,
   "id": "aa3638c2-58f1-4ada-b733-a009c78ab48c",
   "metadata": {},
   "outputs": [],
   "source": []
  },
  {
   "cell_type": "code",
   "execution_count": null,
   "id": "1b7dca5f-d53f-4722-983f-bcf508a5a371",
   "metadata": {},
   "outputs": [],
   "source": []
  },
  {
   "cell_type": "code",
   "execution_count": null,
   "id": "4e050cc6-a250-40f3-9f72-c0a15ac40491",
   "metadata": {},
   "outputs": [],
   "source": []
  },
  {
   "cell_type": "code",
   "execution_count": null,
   "id": "f574c72d-b554-4b09-be70-6cdb5a3b9f47",
   "metadata": {},
   "outputs": [],
   "source": []
  }
 ],
 "metadata": {
  "kernelspec": {
   "display_name": "Python 3 (ipykernel)",
   "language": "python",
   "name": "python3"
  },
  "language_info": {
   "codemirror_mode": {
    "name": "ipython",
    "version": 3
   },
   "file_extension": ".py",
   "mimetype": "text/x-python",
   "name": "python",
   "nbconvert_exporter": "python",
   "pygments_lexer": "ipython3",
   "version": "3.11.4"
  }
 },
 "nbformat": 4,
 "nbformat_minor": 5
}
